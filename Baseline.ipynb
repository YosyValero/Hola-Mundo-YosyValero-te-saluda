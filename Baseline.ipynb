{
  "nbformat": 4,
  "nbformat_minor": 0,
  "metadata": {
    "colab": {
      "provenance": [],
      "toc_visible": true,
      "authorship_tag": "ABX9TyMsg7MinE3GXQ9PotYw03T5",
      "include_colab_link": true
    },
    "kernelspec": {
      "name": "python3",
      "display_name": "Python 3"
    },
    "language_info": {
      "name": "python"
    }
  },
  "cells": [
    {
      "cell_type": "markdown",
      "metadata": {
        "id": "view-in-github",
        "colab_type": "text"
      },
      "source": [
        "<a href=\"https://colab.research.google.com/github/YosyValero/Hola-Mundo-YosyValero-te-saluda/blob/main/Baseline.ipynb\" target=\"_parent\"><img src=\"https://colab.research.google.com/assets/colab-badge.svg\" alt=\"Open In Colab\"/></a>"
      ]
    },
    {
      "cell_type": "markdown",
      "source": [
        "Baseline TFG"
      ],
      "metadata": {
        "id": "WY1THrOyGrbc"
      }
    },
    {
      "cell_type": "code",
      "execution_count": 2,
      "metadata": {
        "colab": {
          "base_uri": "https://localhost:8080/"
        },
        "id": "fmacMuG6nTqx",
        "outputId": "24ba331f-4748-4f2d-f52d-75afa2283d13"
      },
      "outputs": [
        {
          "output_type": "stream",
          "name": "stdout",
          "text": [
            "Mounted at /content/drive\n"
          ]
        }
      ],
      "source": [
        "from google.colab import drive\n",
        "drive.mount('/content/drive')"
      ]
    },
    {
      "cell_type": "code",
      "source": [
        "ruta = 'https://drive.google.com/drive/folders/1QO-S6eSqUXNwZt-oU6G5H1DwmN-vSbnC?usp=sharing'"
      ],
      "metadata": {
        "id": "fC-3_GXid69_"
      },
      "execution_count": 174,
      "outputs": []
    },
    {
      "cell_type": "code",
      "source": [
        "path_tsv = ruta + '/tsv/'"
      ],
      "metadata": {
        "id": "bR_u3fy2eHIT"
      },
      "execution_count": 175,
      "outputs": []
    },
    {
      "cell_type": "code",
      "source": [
        "print(path_tsv)"
      ],
      "metadata": {
        "colab": {
          "base_uri": "https://localhost:8080/"
        },
        "id": "6CvhMP4Aejhh",
        "outputId": "f5a97682-74c7-4e97-c763-98f0459ddf3e"
      },
      "execution_count": 176,
      "outputs": [
        {
          "output_type": "stream",
          "name": "stdout",
          "text": [
            "https://drive.google.com/drive/folders/1QO-S6eSqUXNwZt-oU6G5H1DwmN-vSbnC?usp=sharing/tsv/\n"
          ]
        }
      ]
    },
    {
      "cell_type": "code",
      "source": [
        "import numpy as np\n",
        "import pandas as pd"
      ],
      "metadata": {
        "id": "_3mOeO3iGylD"
      },
      "execution_count": 177,
      "outputs": []
    },
    {
      "cell_type": "code",
      "source": [
        "path_tsv = '/content/drive/MyDrive/Dataset/tsv/'"
      ],
      "metadata": {
        "id": "RV8zi3D4Vk-y"
      },
      "execution_count": 178,
      "outputs": []
    },
    {
      "cell_type": "code",
      "source": [
        "df_dissea =  pd.read_csv(path_tsv + 'dissea.tsv', sep='\\t', header=0).loc[:, ('tweets_id', 'type')].rename(columns={'tweets_id': 'tweet_id'})"
      ],
      "metadata": {
        "id": "uleeDwThUX26"
      },
      "execution_count": 179,
      "outputs": []
    },
    {
      "cell_type": "code",
      "source": [
        "df_prof =  pd.read_csv(path_tsv + 'prof.tsv', sep='\\t', header=0).loc[:, ('tweet_id', 'type')]"
      ],
      "metadata": {
        "id": "8YdwbjLAWcZ0"
      },
      "execution_count": 180,
      "outputs": []
    },
    {
      "cell_type": "code",
      "source": [
        "df_prof.drop(df_prof[df_prof['type']=='-'].index, inplace=True)"
      ],
      "metadata": {
        "id": "Wpoj9mOY1NxX"
      },
      "execution_count": 181,
      "outputs": []
    },
    {
      "cell_type": "code",
      "source": [
        "df_prof = df_prof.replace(['PROFESION', 'SITUACION_LABORAL', 'ACTIVIDAD', 'FIGURATIVA'], ['NO_ENFERMEDAD', 'NO_ENFERMEDAD', 'NO_ENFERMEDAD', 'NO_ENFERMEDAD'])"
      ],
      "metadata": {
        "id": "DqlmZ5hvd-NZ"
      },
      "execution_count": 182,
      "outputs": []
    },
    {
      "cell_type": "code",
      "source": [
        "df_prof_norep = df_prof.drop_duplicates(ignore_index=True)"
      ],
      "metadata": {
        "id": "IJgf8uPRW4qO"
      },
      "execution_count": 183,
      "outputs": []
    },
    {
      "cell_type": "code",
      "source": [
        "df_disse_norep = df_dissea.drop_duplicates(ignore_index=True)"
      ],
      "metadata": {
        "id": "Ets8SUnuXFGa"
      },
      "execution_count": 184,
      "outputs": []
    },
    {
      "cell_type": "code",
      "source": [
        "muestras_min = min([len(df_disse_norep), len(df_prof_norep)])"
      ],
      "metadata": {
        "id": "q4YS-Ail8rhO"
      },
      "execution_count": 185,
      "outputs": []
    },
    {
      "cell_type": "code",
      "source": [
        "muestras = 600"
      ],
      "metadata": {
        "id": "U0oTuuHM9PL6"
      },
      "execution_count": 186,
      "outputs": []
    },
    {
      "cell_type": "code",
      "source": [
        "if muestras_min < muestras:\n",
        "  muestras = muestras_min"
      ],
      "metadata": {
        "id": "HYM9QyOs9Tpe"
      },
      "execution_count": 187,
      "outputs": []
    },
    {
      "cell_type": "code",
      "source": [
        "df_xamples_diss = df_disse_norep.head(muestras)"
      ],
      "metadata": {
        "id": "yMARCWkE-rMp"
      },
      "execution_count": 188,
      "outputs": []
    },
    {
      "cell_type": "code",
      "source": [
        "df_xamples_nodiss = df_prof_norep.head(muestras)"
      ],
      "metadata": {
        "id": "rvS4Gswk-ro5"
      },
      "execution_count": 189,
      "outputs": []
    },
    {
      "cell_type": "code",
      "source": [
        "df_xamples_nodiss = df_xamples_nodiss.rename(index=lambda x: x + muestras)"
      ],
      "metadata": {
        "id": "6GOQ8tqf_gPC"
      },
      "execution_count": 190,
      "outputs": []
    },
    {
      "cell_type": "code",
      "source": [
        "df_tot = pd.concat([df_xamples_diss, df_xamples_nodiss])\n"
      ],
      "metadata": {
        "id": "4VQzl_Q5Wfbc"
      },
      "execution_count": 191,
      "outputs": []
    },
    {
      "cell_type": "code",
      "source": [
        "df_tot.insert(2, 'content_tuit', value='')"
      ],
      "metadata": {
        "id": "SA29vXs15MB7"
      },
      "execution_count": 192,
      "outputs": []
    },
    {
      "cell_type": "code",
      "source": [
        "def get_tuit(type_tuit, name_tuit):\n",
        "  sub_path = path_tsv + 'train-valid-txt-files/'\n",
        "  if type_tuit == 'ENFERMEDAD':\n",
        "    path_tuit = sub_path + 'dissea'\n",
        "  else:\n",
        "    path_tuit = sub_path + 'prof'\n",
        "\n",
        "  path_tuit = path_tuit + '/training/' + name_tuit + '.txt'\n",
        "  tuit = open(path_tuit, mode='r', encoding='utf-8')\n",
        "  content_tuit = tuit.read()\n",
        "  tuit.close()\n",
        "\n",
        "  return content_tuit"
      ],
      "metadata": {
        "id": "Wu5FZ0wWGj7h"
      },
      "execution_count": 193,
      "outputs": []
    },
    {
      "cell_type": "code",
      "source": [
        "for i in range(len(df_tot)):\n",
        "    name_tuit = df_tot.loc[i, 'tweet_id']\n",
        "    type_tuit = df_tot.loc[i, 'type']\n",
        "    df_tot.at[i, 'content_tuit'] = get_tuit(type_tuit, str(name_tuit))"
      ],
      "metadata": {
        "id": "P14yy2l2VZCc"
      },
      "execution_count": 194,
      "outputs": []
    },
    {
      "cell_type": "code",
      "source": [
        "df_tot"
      ],
      "metadata": {
        "colab": {
          "base_uri": "https://localhost:8080/",
          "height": 424
        },
        "id": "1nosMAU_Yj44",
        "outputId": "2649c3d9-cdab-4066-d8dd-10df6c4186ca"
      },
      "execution_count": 195,
      "outputs": [
        {
          "output_type": "execute_result",
          "data": {
            "text/plain": [
              "                 tweet_id           type  \\\n",
              "0     1357198223706894339     ENFERMEDAD   \n",
              "1     1494382407398662147     ENFERMEDAD   \n",
              "2     1478289344565755910     ENFERMEDAD   \n",
              "3     1476287203424800781     ENFERMEDAD   \n",
              "4     1269536913259671559     ENFERMEDAD   \n",
              "...                   ...            ...   \n",
              "1195  1246283515857195009  NO_ENFERMEDAD   \n",
              "1196  1254769436206096386  NO_ENFERMEDAD   \n",
              "1197  1260528258476576769  NO_ENFERMEDAD   \n",
              "1198  1255288427421020165  NO_ENFERMEDAD   \n",
              "1199  1255793686086066176  NO_ENFERMEDAD   \n",
              "\n",
              "                                           content_tuit  \n",
              "0     No sé si es alergia, covid o gripe, ya solo es...  \n",
              "1     ADOLESCENTES CON DIABETES\\n\\nHola!\\nMe llamo E...  \n",
              "2     De niño y adulto me vacunaron contra el saramp...  \n",
              "3     Un ingreso por depresión debería entenderse co...  \n",
              "4     Santiago, desde Córdoba no me enteré que estuv...  \n",
              "...                                                 ...  \n",
              "1195  En la noche de hoy se continúa con las medidas...  \n",
              "1196  🗣️ @abalosmeco pide a las fuerzas políticas “e...  \n",
              "1197  Por favor, sed responsables. Si el #virus repu...  \n",
              "1198  #Espectáculos: \"Ilse y Mimi\" ofrecerán un conc...  \n",
              "1199  La difusión del virus es culpa de las feminist...  \n",
              "\n",
              "[1200 rows x 3 columns]"
            ],
            "text/html": [
              "\n",
              "  <div id=\"df-e96c75ec-e915-4d84-b45d-8842db69e806\">\n",
              "    <div class=\"colab-df-container\">\n",
              "      <div>\n",
              "<style scoped>\n",
              "    .dataframe tbody tr th:only-of-type {\n",
              "        vertical-align: middle;\n",
              "    }\n",
              "\n",
              "    .dataframe tbody tr th {\n",
              "        vertical-align: top;\n",
              "    }\n",
              "\n",
              "    .dataframe thead th {\n",
              "        text-align: right;\n",
              "    }\n",
              "</style>\n",
              "<table border=\"1\" class=\"dataframe\">\n",
              "  <thead>\n",
              "    <tr style=\"text-align: right;\">\n",
              "      <th></th>\n",
              "      <th>tweet_id</th>\n",
              "      <th>type</th>\n",
              "      <th>content_tuit</th>\n",
              "    </tr>\n",
              "  </thead>\n",
              "  <tbody>\n",
              "    <tr>\n",
              "      <th>0</th>\n",
              "      <td>1357198223706894339</td>\n",
              "      <td>ENFERMEDAD</td>\n",
              "      <td>No sé si es alergia, covid o gripe, ya solo es...</td>\n",
              "    </tr>\n",
              "    <tr>\n",
              "      <th>1</th>\n",
              "      <td>1494382407398662147</td>\n",
              "      <td>ENFERMEDAD</td>\n",
              "      <td>ADOLESCENTES CON DIABETES\\n\\nHola!\\nMe llamo E...</td>\n",
              "    </tr>\n",
              "    <tr>\n",
              "      <th>2</th>\n",
              "      <td>1478289344565755910</td>\n",
              "      <td>ENFERMEDAD</td>\n",
              "      <td>De niño y adulto me vacunaron contra el saramp...</td>\n",
              "    </tr>\n",
              "    <tr>\n",
              "      <th>3</th>\n",
              "      <td>1476287203424800781</td>\n",
              "      <td>ENFERMEDAD</td>\n",
              "      <td>Un ingreso por depresión debería entenderse co...</td>\n",
              "    </tr>\n",
              "    <tr>\n",
              "      <th>4</th>\n",
              "      <td>1269536913259671559</td>\n",
              "      <td>ENFERMEDAD</td>\n",
              "      <td>Santiago, desde Córdoba no me enteré que estuv...</td>\n",
              "    </tr>\n",
              "    <tr>\n",
              "      <th>...</th>\n",
              "      <td>...</td>\n",
              "      <td>...</td>\n",
              "      <td>...</td>\n",
              "    </tr>\n",
              "    <tr>\n",
              "      <th>1195</th>\n",
              "      <td>1246283515857195009</td>\n",
              "      <td>NO_ENFERMEDAD</td>\n",
              "      <td>En la noche de hoy se continúa con las medidas...</td>\n",
              "    </tr>\n",
              "    <tr>\n",
              "      <th>1196</th>\n",
              "      <td>1254769436206096386</td>\n",
              "      <td>NO_ENFERMEDAD</td>\n",
              "      <td>🗣️ @abalosmeco pide a las fuerzas políticas “e...</td>\n",
              "    </tr>\n",
              "    <tr>\n",
              "      <th>1197</th>\n",
              "      <td>1260528258476576769</td>\n",
              "      <td>NO_ENFERMEDAD</td>\n",
              "      <td>Por favor, sed responsables. Si el #virus repu...</td>\n",
              "    </tr>\n",
              "    <tr>\n",
              "      <th>1198</th>\n",
              "      <td>1255288427421020165</td>\n",
              "      <td>NO_ENFERMEDAD</td>\n",
              "      <td>#Espectáculos: \"Ilse y Mimi\" ofrecerán un conc...</td>\n",
              "    </tr>\n",
              "    <tr>\n",
              "      <th>1199</th>\n",
              "      <td>1255793686086066176</td>\n",
              "      <td>NO_ENFERMEDAD</td>\n",
              "      <td>La difusión del virus es culpa de las feminist...</td>\n",
              "    </tr>\n",
              "  </tbody>\n",
              "</table>\n",
              "<p>1200 rows × 3 columns</p>\n",
              "</div>\n",
              "      <button class=\"colab-df-convert\" onclick=\"convertToInteractive('df-e96c75ec-e915-4d84-b45d-8842db69e806')\"\n",
              "              title=\"Convert this dataframe to an interactive table.\"\n",
              "              style=\"display:none;\">\n",
              "        \n",
              "  <svg xmlns=\"http://www.w3.org/2000/svg\" height=\"24px\"viewBox=\"0 0 24 24\"\n",
              "       width=\"24px\">\n",
              "    <path d=\"M0 0h24v24H0V0z\" fill=\"none\"/>\n",
              "    <path d=\"M18.56 5.44l.94 2.06.94-2.06 2.06-.94-2.06-.94-.94-2.06-.94 2.06-2.06.94zm-11 1L8.5 8.5l.94-2.06 2.06-.94-2.06-.94L8.5 2.5l-.94 2.06-2.06.94zm10 10l.94 2.06.94-2.06 2.06-.94-2.06-.94-.94-2.06-.94 2.06-2.06.94z\"/><path d=\"M17.41 7.96l-1.37-1.37c-.4-.4-.92-.59-1.43-.59-.52 0-1.04.2-1.43.59L10.3 9.45l-7.72 7.72c-.78.78-.78 2.05 0 2.83L4 21.41c.39.39.9.59 1.41.59.51 0 1.02-.2 1.41-.59l7.78-7.78 2.81-2.81c.8-.78.8-2.07 0-2.86zM5.41 20L4 18.59l7.72-7.72 1.47 1.35L5.41 20z\"/>\n",
              "  </svg>\n",
              "      </button>\n",
              "      \n",
              "  <style>\n",
              "    .colab-df-container {\n",
              "      display:flex;\n",
              "      flex-wrap:wrap;\n",
              "      gap: 12px;\n",
              "    }\n",
              "\n",
              "    .colab-df-convert {\n",
              "      background-color: #E8F0FE;\n",
              "      border: none;\n",
              "      border-radius: 50%;\n",
              "      cursor: pointer;\n",
              "      display: none;\n",
              "      fill: #1967D2;\n",
              "      height: 32px;\n",
              "      padding: 0 0 0 0;\n",
              "      width: 32px;\n",
              "    }\n",
              "\n",
              "    .colab-df-convert:hover {\n",
              "      background-color: #E2EBFA;\n",
              "      box-shadow: 0px 1px 2px rgba(60, 64, 67, 0.3), 0px 1px 3px 1px rgba(60, 64, 67, 0.15);\n",
              "      fill: #174EA6;\n",
              "    }\n",
              "\n",
              "    [theme=dark] .colab-df-convert {\n",
              "      background-color: #3B4455;\n",
              "      fill: #D2E3FC;\n",
              "    }\n",
              "\n",
              "    [theme=dark] .colab-df-convert:hover {\n",
              "      background-color: #434B5C;\n",
              "      box-shadow: 0px 1px 3px 1px rgba(0, 0, 0, 0.15);\n",
              "      filter: drop-shadow(0px 1px 2px rgba(0, 0, 0, 0.3));\n",
              "      fill: #FFFFFF;\n",
              "    }\n",
              "  </style>\n",
              "\n",
              "      <script>\n",
              "        const buttonEl =\n",
              "          document.querySelector('#df-e96c75ec-e915-4d84-b45d-8842db69e806 button.colab-df-convert');\n",
              "        buttonEl.style.display =\n",
              "          google.colab.kernel.accessAllowed ? 'block' : 'none';\n",
              "\n",
              "        async function convertToInteractive(key) {\n",
              "          const element = document.querySelector('#df-e96c75ec-e915-4d84-b45d-8842db69e806');\n",
              "          const dataTable =\n",
              "            await google.colab.kernel.invokeFunction('convertToInteractive',\n",
              "                                                     [key], {});\n",
              "          if (!dataTable) return;\n",
              "\n",
              "          const docLinkHtml = 'Like what you see? Visit the ' +\n",
              "            '<a target=\"_blank\" href=https://colab.research.google.com/notebooks/data_table.ipynb>data table notebook</a>'\n",
              "            + ' to learn more about interactive tables.';\n",
              "          element.innerHTML = '';\n",
              "          dataTable['output_type'] = 'display_data';\n",
              "          await google.colab.output.renderOutput(dataTable, element);\n",
              "          const docLink = document.createElement('div');\n",
              "          docLink.innerHTML = docLinkHtml;\n",
              "          element.appendChild(docLink);\n",
              "        }\n",
              "      </script>\n",
              "    </div>\n",
              "  </div>\n",
              "  "
            ]
          },
          "metadata": {},
          "execution_count": 195
        }
      ]
    }
  ]
}